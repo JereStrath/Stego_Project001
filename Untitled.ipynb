{
 "cells": [
  {
   "cell_type": "code",
   "execution_count": 57,
   "id": "8aacd896",
   "metadata": {},
   "outputs": [],
   "source": [
    "import tensorflow as tf\n",
    "import os #used to navigate through file structures\n",
    "import cv2 #allows for compture vision and code stuff\n",
    "import imghdr #allows to check the file extension for our particular images\n",
    "from matplotlib import pyplot as plt\n",
    "import numpy as np"
   ]
  },
  {
   "cell_type": "code",
   "execution_count": 58,
   "id": "530ac2b8",
   "metadata": {},
   "outputs": [
    {
     "data": {
      "text/plain": [
       "[PhysicalDevice(name='/physical_device:CPU:0', device_type='CPU')]"
      ]
     },
     "execution_count": 58,
     "metadata": {},
     "output_type": "execute_result"
    }
   ],
   "source": [
    "gpus = tf.config.experimental.list_physical_devices('CPU')\n",
    "gpus"
   ]
  },
  {
   "cell_type": "code",
   "execution_count": 59,
   "id": "6b62d58e",
   "metadata": {},
   "outputs": [],
   "source": [
    "data_dir = 'train'"
   ]
  },
  {
   "cell_type": "code",
   "execution_count": 60,
   "id": "d83e757d",
   "metadata": {},
   "outputs": [],
   "source": [
    "image_exts = ['jpeg', 'jpg', 'bmp', 'png'] "
   ]
  },
  {
   "cell_type": "code",
   "execution_count": 61,
   "id": "6a770d52",
   "metadata": {
    "scrolled": true
   },
   "outputs": [
    {
     "name": "stdout",
     "output_type": "stream",
     "text": [
      "Images shape: (1, 64, 64, 3)\n",
      "Labels shape: (1,)\n"
     ]
    }
   ],
   "source": [
    "import os\n",
    "import cv2\n",
    "import numpy as np\n",
    "import tensorflow as tf\n",
    "\n",
    "# Specify the path to the directory containing the dataset\n",
    "dataset_dir = 'train'\n",
    "\n",
    "# Initialize lists to store images and labels\n",
    "images = []\n",
    "labels = []\n",
    "\n",
    "# Define batch size and batch count\n",
    "batch_size = 32\n",
    "batch_count = 0\n",
    "\n",
    "# Iterate over the subdirectories in the dataset directory\n",
    "for class_name in os.listdir(dataset_dir):\n",
    "    class_dir = os.path.join(dataset_dir, class_name)\n",
    "    \n",
    "    # Check if the class name is a valid integer\n",
    "    try:\n",
    "        class_label = int(class_name)\n",
    "    except ValueError:\n",
    "        continue  # Skip this iteration if the class name is not a valid integer\n",
    "    \n",
    "    # Iterate over the files in each subdirectory\n",
    "    for file_name in os.listdir(class_dir):\n",
    "        file_path = os.path.join(class_dir, file_name)\n",
    "        \n",
    "        # Load the image using OpenCV\n",
    "        image = cv2.imread(file_path)\n",
    "        \n",
    "        # Perform any necessary preprocessing on the image\n",
    "        \n",
    "        # Append the preprocessed image and corresponding label to the lists\n",
    "        images.append(image)\n",
    "        labels.append(class_label)\n",
    "        \n",
    "        # Check if the batch is complete\n",
    "        if len(images) == batch_size:\n",
    "            # Convert the batched images and labels to numpy arrays\n",
    "            batch_images = np.array(images)\n",
    "            batch_labels = np.array(labels)\n",
    "            \n",
    "            # Perform any further preprocessing on the batched images and labels\n",
    "            normalized_images = batch_images / 255.0\n",
    "            one_hot_labels = tf.keras.utils.to_categorical(batch_labels, num_classes=10)\n",
    "            \n",
    "            # Clear the images and labels lists to save memory\n",
    "            images = []\n",
    "            labels = []\n",
    "            \n",
    "            # Increment the batch count\n",
    "            batch_count += 1\n",
    "            \n",
    "            # Process the current batch...\n",
    "            # (e.g., feed it to a model for training or validation)\n",
    "            # You can replace this placeholder with your actual code\n",
    "            \n",
    "            # Print the progress\n",
    "            print(f\"Processed batch {batch_count}\")\n",
    "\n",
    "# Convert the remaining images and labels to numpy arrays\n",
    "if len(images) > 0:\n",
    "    batch_images = np.array(images)\n",
    "    batch_labels = np.array(labels)\n",
    "    \n",
    "    # Perform any further preprocessing on the remaining batched images and labels\n",
    "    normalized_images = batch_images / 255.0\n",
    "    one_hot_labels = tf.keras.utils.to_categorical(batch_labels, num_classes=10)\n",
    "    \n",
    "    # Process the remaining batch...\n",
    "    # (e.g., feed it to a model for training or validation)\n",
    "    # You can replace this placeholder with your actual code\n",
    "    \n",
    "    # Print the progress\n",
    "    print(f\"Processed remaining batch\")\n",
    "\n",
    "# Print the shapes of the images and labels arrays\n",
    "print(\"Images shape:\", batch_images.shape)\n",
    "print(\"Labels shape:\", batch_labels.shape)\n"
   ]
  },
  {
   "cell_type": "code",
   "execution_count": 62,
   "id": "a7377f5e",
   "metadata": {},
   "outputs": [
    {
     "name": "stdout",
     "output_type": "stream",
     "text": [
      "Found 32000 files belonging to 2 classes.\n"
     ]
    }
   ],
   "source": [
    "data = tf.keras.utils.image_dataset_from_directory('train') #this is where the data is going to be loaded.\n",
    "#the code also builds an image dataset for you and also some preprocessing so as to resize the images."
   ]
  },
  {
   "cell_type": "code",
   "execution_count": 63,
   "id": "016084c9",
   "metadata": {},
   "outputs": [],
   "source": [
    "data_iterator = data.as_numpy_iterator() #allows access to the generator for the data pipeline."
   ]
  },
  {
   "cell_type": "code",
   "execution_count": 64,
   "id": "0c6261f1",
   "metadata": {},
   "outputs": [],
   "source": [
    "#Get another batch from the iterator\n",
    "batch = data_iterator.next()"
   ]
  },
  {
   "cell_type": "code",
   "execution_count": 65,
   "id": "ee34deba",
   "metadata": {},
   "outputs": [
    {
     "data": {
      "text/plain": [
       "array([1, 1, 0, 1, 0, 0, 1, 0, 0, 0, 0, 1, 1, 0, 0, 0, 0, 0, 1, 0, 1, 0,\n",
       "       1, 0, 1, 1, 1, 1, 0, 1, 1, 0])"
      ]
     },
     "execution_count": 65,
     "metadata": {},
     "output_type": "execute_result"
    }
   ],
   "source": [
    "#class 1 = SAD people, \n",
    "#class 0 = happy people\n",
    "batch[1] #images represented as numpy arrays"
   ]
  },
  {
   "cell_type": "code",
   "execution_count": 67,
   "id": "bbd15693",
   "metadata": {},
   "outputs": [],
   "source": [
    "data = data.map(lambda x, y: (x/255, y))"
   ]
  },
  {
   "cell_type": "code",
   "execution_count": 68,
   "id": "9e38a09e",
   "metadata": {},
   "outputs": [],
   "source": [
    "scaled_iterator = data.as_numpy_iterator()"
   ]
  },
  {
   "cell_type": "code",
   "execution_count": 69,
   "id": "c3df6f10",
   "metadata": {},
   "outputs": [],
   "source": [
    "batch = scaled_iterator.next()"
   ]
  },
  {
   "cell_type": "code",
   "execution_count": 70,
   "id": "3882d43a",
   "metadata": {},
   "outputs": [
    {
     "data": {
      "text/plain": [
       "1.0"
      ]
     },
     "execution_count": 70,
     "metadata": {},
     "output_type": "execute_result"
    }
   ],
   "source": [
    "batch[0].max()"
   ]
  },
  {
   "cell_type": "code",
   "execution_count": 72,
   "id": "97811b25",
   "metadata": {
    "scrolled": true
   },
   "outputs": [
    {
     "data": {
      "text/plain": [
       "1000"
      ]
     },
     "execution_count": 72,
     "metadata": {},
     "output_type": "execute_result"
    }
   ],
   "source": [
    "len(data) #what is used to train the deep learning model"
   ]
  },
  {
   "cell_type": "code",
   "execution_count": 77,
   "id": "e8814ede",
   "metadata": {},
   "outputs": [],
   "source": [
    "train_size = int(len(data)*.7) #used during training\n",
    "val_size = int(len(data)*.2) #used to evaluate model while it is being trained. used during tarining\n",
    "test_size = int(len(data)*.1) # is held until the end. The model will not interact with it. It is used post training to do evaluation."
   ]
  },
  {
   "cell_type": "code",
   "execution_count": 80,
   "id": "fbb2335f",
   "metadata": {},
   "outputs": [
    {
     "data": {
      "text/plain": [
       "1000"
      ]
     },
     "execution_count": 80,
     "metadata": {},
     "output_type": "execute_result"
    }
   ],
   "source": [
    "train_size+val_size+test_size"
   ]
  },
  {
   "cell_type": "code",
   "execution_count": 81,
   "id": "ede41f25",
   "metadata": {},
   "outputs": [],
   "source": [
    "train =data.take(train_size) #defines how much data we are going to take in this particular partition.\n",
    "val = data.skip(train_size).take(val_size) #here the batches allocated to training batch are going to be skipped and the next batch is going to be allocated to the val batch\n",
    "test = data.skip(train_size + val_size).take(test_size) #here the remaining batch is going to be taken by test"
   ]
  },
  {
   "cell_type": "code",
   "execution_count": 93,
   "id": "4506383a",
   "metadata": {},
   "outputs": [],
   "source": [
    "from tensorflow.keras.models import Sequential\n",
    "from tensorflow.keras.layers import Conv2D, MaxPooling2D, Dense, Flatten, Dropout"
   ]
  },
  {
   "cell_type": "code",
   "execution_count": 95,
   "id": "26b258d8",
   "metadata": {},
   "outputs": [],
   "source": [
    "#\n",
    "model = Sequential()\n",
    "model.add(Conv2D(16, (3,3), 1, activation='relu', input_shape=(256, 256, 3)))\n",
    "model.add(MaxPooling2D())\n",
    "\n",
    "model.add(Conv2D(32, (3,3), 1, activation='relu'))\n",
    "model.add(MaxPooling2D())\n",
    "\n",
    "model.add(Conv2D(16, (3,3), 1, activation='relu'))\n",
    "model.add(MaxPooling2D())\n",
    "\n",
    "model.add(Flatten())\n",
    "\n",
    "model.add(Dense(256, activation='relu'))\n",
    "model.add(Dense(1, activation='sigmoid'))"
   ]
  },
  {
   "cell_type": "code",
   "execution_count": 96,
   "id": "c0998033",
   "metadata": {},
   "outputs": [],
   "source": [
    "model.compile('adam', loss=tf.losses.BinaryCrossentropy(), metrics=['accuracy'])"
   ]
  },
  {
   "cell_type": "code",
   "execution_count": 97,
   "id": "313f9240",
   "metadata": {
    "scrolled": true
   },
   "outputs": [
    {
     "name": "stdout",
     "output_type": "stream",
     "text": [
      "Model: \"sequential_1\"\n",
      "_________________________________________________________________\n",
      " Layer (type)                Output Shape              Param #   \n",
      "=================================================================\n",
      " conv2d_4 (Conv2D)           (None, 254, 254, 16)      448       \n",
      "                                                                 \n",
      " max_pooling2d_2 (MaxPooling  (None, 127, 127, 16)     0         \n",
      " 2D)                                                             \n",
      "                                                                 \n",
      " conv2d_5 (Conv2D)           (None, 125, 125, 32)      4640      \n",
      "                                                                 \n",
      " max_pooling2d_3 (MaxPooling  (None, 62, 62, 32)       0         \n",
      " 2D)                                                             \n",
      "                                                                 \n",
      " conv2d_6 (Conv2D)           (None, 60, 60, 16)        4624      \n",
      "                                                                 \n",
      " max_pooling2d_4 (MaxPooling  (None, 30, 30, 16)       0         \n",
      " 2D)                                                             \n",
      "                                                                 \n",
      " flatten_1 (Flatten)         (None, 14400)             0         \n",
      "                                                                 \n",
      " dense_2 (Dense)             (None, 256)               3686656   \n",
      "                                                                 \n",
      " dense_3 (Dense)             (None, 1)                 257       \n",
      "                                                                 \n",
      "=================================================================\n",
      "Total params: 3,696,625\n",
      "Trainable params: 3,696,625\n",
      "Non-trainable params: 0\n",
      "_________________________________________________________________\n"
     ]
    }
   ],
   "source": [
    "model.summary()"
   ]
  },
  {
   "cell_type": "code",
   "execution_count": 98,
   "id": "85e9c252",
   "metadata": {},
   "outputs": [],
   "source": [
    "logdir='logs'"
   ]
  },
  {
   "cell_type": "code",
   "execution_count": 99,
   "id": "16f8816a",
   "metadata": {},
   "outputs": [],
   "source": [
    "tensorboard_callback=tf.keras.callbacks.TensorBoard(log_dir=logdir)"
   ]
  },
  {
   "cell_type": "code",
   "execution_count": 100,
   "id": "b509c96a",
   "metadata": {},
   "outputs": [
    {
     "name": "stdout",
     "output_type": "stream",
     "text": [
      "Epoch 1/10\n",
      "700/700 [==============================] - 506s 721ms/step - loss: 0.5779 - accuracy: 0.7483 - val_loss: 0.5710 - val_accuracy: 0.7491\n",
      "Epoch 2/10\n",
      "700/700 [==============================] - 528s 754ms/step - loss: 0.5645 - accuracy: 0.7500 - val_loss: 0.5687 - val_accuracy: 0.7494\n",
      "Epoch 3/10\n",
      "700/700 [==============================] - 508s 725ms/step - loss: 0.5634 - accuracy: 0.7500 - val_loss: 0.5611 - val_accuracy: 0.7517\n",
      "Epoch 4/10\n",
      "700/700 [==============================] - 501s 715ms/step - loss: 0.5632 - accuracy: 0.7497 - val_loss: 0.5635 - val_accuracy: 0.7495\n",
      "Epoch 5/10\n",
      "700/700 [==============================] - 610s 871ms/step - loss: 0.5625 - accuracy: 0.7504 - val_loss: 0.5631 - val_accuracy: 0.7498\n",
      "Epoch 6/10\n",
      "700/700 [==============================] - 931s 1s/step - loss: 0.5633 - accuracy: 0.7497 - val_loss: 0.5648 - val_accuracy: 0.7484\n",
      "Epoch 7/10\n",
      "700/700 [==============================] - 933s 1s/step - loss: 0.5631 - accuracy: 0.7496 - val_loss: 0.5637 - val_accuracy: 0.7491\n",
      "Epoch 8/10\n",
      "700/700 [==============================] - 955s 1s/step - loss: 0.5630 - accuracy: 0.7498 - val_loss: 0.5642 - val_accuracy: 0.7486\n",
      "Epoch 9/10\n",
      "700/700 [==============================] - 951s 1s/step - loss: 0.5628 - accuracy: 0.7499 - val_loss: 0.5614 - val_accuracy: 0.7509\n",
      "Epoch 10/10\n",
      "700/700 [==============================] - 956s 1s/step - loss: 0.5628 - accuracy: 0.7499 - val_loss: 0.5619 - val_accuracy: 0.7506\n"
     ]
    }
   ],
   "source": [
    "hist = model.fit(train, epochs=10, batch_size=32, validation_data=val, callbacks=[tensorboard_callback])"
   ]
  },
  {
   "cell_type": "code",
   "execution_count": 109,
   "id": "e2a24938",
   "metadata": {},
   "outputs": [
    {
     "data": {
      "image/png": "[encoded data removed]",
      "text/plain": [
       "<Figure size 640x480 with 1 Axes>"
      ]
     },
     "metadata": {},
     "output_type": "display_data"
    }
   ],
   "source": [
    "fig = plt.figure()\n",
    "plt.plot(hist.history['loss'], color='teal', label='loss')\n",
    "plt.plot(hist.history['val_loss'], color='orange', label='val_loss')\n",
    "fig.suptitle('Loss', fontsize=20)\n",
    "plt.legend(loc=\"upper left\")\n",
    "plt.show()"
   ]
  },
  {
   "cell_type": "code",
   "execution_count": 110,
   "id": "60a6f17b",
   "metadata": {},
   "outputs": [
    {
     "data": {
      "image/png": "[encoded data removed]",
      "text/plain": [
       "<Figure size 640x480 with 1 Axes>"
      ]
     },
     "metadata": {},
     "output_type": "display_data"
    }
   ],
   "source": [
    " bfig = plt.figure()\n",
    "plt.plot(hist.history['accuracy'], color='teal', label='accuracy')\n",
    "plt.plot(hist.history['val_accuracy'], color='orange', label='val_accuracy')\n",
    "fig.suptitle('Accuracy', fontsize=20)\n",
    "plt.legend(loc=\"upper left\")\n",
    "plt.show()"
   ]
  },
  {
   "cell_type": "code",
   "execution_count": 103,
   "id": "ca50319f",
   "metadata": {},
   "outputs": [],
   "source": [
    "from tensorflow.keras.metrics import Precision, Recall, BinaryAccuracy"
   ]
  },
  {
   "cell_type": "code",
   "execution_count": 104,
   "id": "8d2f9387",
   "metadata": {},
   "outputs": [],
   "source": [
    "pre = Precision()\n",
    "re = Recall()\n",
    "acc = BinaryAccuracy()"
   ]
  },
  {
   "cell_type": "code",
   "execution_count": 105,
   "id": "f77f004a",
   "metadata": {
    "scrolled": true
   },
   "outputs": [
    {
     "name": "stdout",
     "output_type": "stream",
     "text": [
      "1/1 [==============================] - 1s 990ms/step\n",
      "1/1 [==============================] - 0s 433ms/step\n",
      "1/1 [==============================] - 0s 425ms/step\n",
      "1/1 [==============================] - 0s 393ms/step\n",
      "1/1 [==============================] - 0s 455ms/step\n",
      "1/1 [==============================] - 0s 393ms/step\n",
      "1/1 [==============================] - 0s 442ms/step\n",
      "1/1 [==============================] - 0s 414ms/step\n",
      "1/1 [==============================] - 0s 453ms/step\n",
      "1/1 [==============================] - 0s 447ms/step\n",
      "1/1 [==============================] - 0s 451ms/step\n",
      "1/1 [==============================] - 0s 420ms/step\n",
      "1/1 [==============================] - 0s 419ms/step\n",
      "1/1 [==============================] - 0s 393ms/step\n",
      "1/1 [==============================] - 0s 412ms/step\n",
      "1/1 [==============================] - 0s 438ms/step\n",
      "1/1 [==============================] - 0s 413ms/step\n",
      "1/1 [==============================] - 0s 432ms/step\n",
      "1/1 [==============================] - 0s 425ms/step\n",
      "1/1 [==============================] - 0s 413ms/step\n",
      "1/1 [==============================] - 0s 434ms/step\n",
      "1/1 [==============================] - 0s 438ms/step\n",
      "1/1 [==============================] - 0s 432ms/step\n",
      "1/1 [==============================] - 0s 421ms/step\n",
      "1/1 [==============================] - 0s 417ms/step\n",
      "1/1 [==============================] - 0s 372ms/step\n",
      "1/1 [==============================] - 0s 402ms/step\n",
      "1/1 [==============================] - 0s 394ms/step\n",
      "1/1 [==============================] - 0s 392ms/step\n",
      "1/1 [==============================] - 0s 403ms/step\n",
      "1/1 [==============================] - 0s 403ms/step\n",
      "1/1 [==============================] - 0s 414ms/step\n",
      "1/1 [==============================] - 0s 424ms/step\n",
      "1/1 [==============================] - 0s 434ms/step\n",
      "1/1 [==============================] - 0s 422ms/step\n",
      "1/1 [==============================] - 0s 423ms/step\n",
      "1/1 [==============================] - 0s 423ms/step\n",
      "1/1 [==============================] - 0s 422ms/step\n",
      "1/1 [==============================] - 0s 394ms/step\n",
      "1/1 [==============================] - 0s 405ms/step\n",
      "1/1 [==============================] - 0s 443ms/step\n",
      "1/1 [==============================] - 0s 454ms/step\n",
      "1/1 [==============================] - 0s 434ms/step\n",
      "1/1 [==============================] - 0s 422ms/step\n",
      "1/1 [==============================] - 0s 452ms/step\n",
      "1/1 [==============================] - 0s 446ms/step\n",
      "1/1 [==============================] - 0s 444ms/step\n",
      "1/1 [==============================] - 0s 404ms/step\n",
      "1/1 [==============================] - 0s 393ms/step\n",
      "1/1 [==============================] - 0s 372ms/step\n",
      "1/1 [==============================] - 0s 383ms/step\n",
      "1/1 [==============================] - 0s 412ms/step\n",
      "1/1 [==============================] - 0s 424ms/step\n",
      "1/1 [==============================] - 0s 422ms/step\n",
      "1/1 [==============================] - 0s 411ms/step\n",
      "1/1 [==============================] - 0s 426ms/step\n",
      "1/1 [==============================] - 0s 392ms/step\n",
      "1/1 [==============================] - 0s 393ms/step\n",
      "1/1 [==============================] - 0s 413ms/step\n",
      "1/1 [==============================] - 0s 414ms/step\n",
      "1/1 [==============================] - 0s 413ms/step\n",
      "1/1 [==============================] - 0s 410ms/step\n",
      "1/1 [==============================] - 0s 443ms/step\n",
      "1/1 [==============================] - 0s 411ms/step\n",
      "1/1 [==============================] - 0s 454ms/step\n",
      "1/1 [==============================] - 0s 423ms/step\n",
      "1/1 [==============================] - 0s 402ms/step\n",
      "1/1 [==============================] - 0s 432ms/step\n",
      "1/1 [==============================] - 0s 401ms/step\n",
      "1/1 [==============================] - 0s 443ms/step\n",
      "1/1 [==============================] - 0s 434ms/step\n",
      "1/1 [==============================] - 0s 421ms/step\n",
      "1/1 [==============================] - 0s 414ms/step\n",
      "1/1 [==============================] - 0s 403ms/step\n",
      "1/1 [==============================] - 0s 401ms/step\n",
      "1/1 [==============================] - 0s 412ms/step\n",
      "1/1 [==============================] - 0s 412ms/step\n",
      "1/1 [==============================] - 0s 444ms/step\n",
      "1/1 [==============================] - 0s 432ms/step\n",
      "1/1 [==============================] - 0s 403ms/step\n",
      "1/1 [==============================] - 0s 422ms/step\n",
      "1/1 [==============================] - 0s 422ms/step\n",
      "1/1 [==============================] - 0s 443ms/step\n",
      "1/1 [==============================] - 0s 414ms/step\n",
      "1/1 [==============================] - 0s 394ms/step\n",
      "1/1 [==============================] - 0s 404ms/step\n",
      "1/1 [==============================] - 0s 441ms/step\n",
      "1/1 [==============================] - 0s 427ms/step\n",
      "1/1 [==============================] - 0s 410ms/step\n",
      "1/1 [==============================] - 0s 452ms/step\n",
      "1/1 [==============================] - 0s 435ms/step\n",
      "1/1 [==============================] - 0s 433ms/step\n",
      "1/1 [==============================] - 0s 425ms/step\n",
      "1/1 [==============================] - 0s 420ms/step\n",
      "1/1 [==============================] - 0s 411ms/step\n",
      "1/1 [==============================] - 0s 424ms/step\n",
      "1/1 [==============================] - 0s 384ms/step\n",
      "1/1 [==============================] - 0s 419ms/step\n",
      "1/1 [==============================] - 0s 393ms/step\n",
      "1/1 [==============================] - 0s 394ms/step\n"
     ]
    }
   ],
   "source": [
    "for batch in test.as_numpy_iterator():\n",
    "    X, y = batch\n",
    "    yhat = model.predict(X)\n",
    "    pre.update_state(y, yhat)\n",
    "    re.update_state(y, yhat)\n",
    "    acc.update_state(y, yhat)"
   ]
  },
  {
   "cell_type": "code",
   "execution_count": 106,
   "id": "250fc031",
   "metadata": {},
   "outputs": [
    {
     "name": "stdout",
     "output_type": "stream",
     "text": [
      "Precision:0.7518749833106995, Recall:1.0, Accuracy:0.7518749833106995\n"
     ]
    }
   ],
   "source": [
    "print(f'Precision:{pre.result().numpy()}, Recall:{re.result().numpy()}, Accuracy:{acc.result().numpy()}')"
   ]
  },
  {
   "cell_type": "code",
   "execution_count": null,
   "id": "0170b327",
   "metadata": {},
   "outputs": [],
   "source": [
    "from tensorflow.keras.models import load_model\n",
    "model.save(os.path.join('models', 'models.h5'))\n",
    "new_model = load_model(os.path.join('models', 'models.h5'))\n",
    "new_model.predict(np.expand_dims(resize/255, 0))\n"
   ]
  }
 ],
 "metadata": {
  "kernelspec": {
   "display_name": "Python 3 (ipykernel)",
   "language": "python",
   "name": "python3"
  },
  "language_info": {
   "codemirror_mode": {
    "name": "ipython",
    "version": 3
   },
   "file_extension": ".py",
   "mimetype": "text/x-python",
   "name": "python",
   "nbconvert_exporter": "python",
   "pygments_lexer": "ipython3",
   "version": "3.11.3"
  }
 },
 "nbformat": 4,
 "nbformat_minor": 5
}
