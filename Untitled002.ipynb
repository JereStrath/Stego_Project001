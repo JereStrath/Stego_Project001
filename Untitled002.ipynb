{
 "cells": [
  {
   "cell_type": "code",
   "execution_count": 38,
   "id": "8aacd896",
   "metadata": {},
   "outputs": [],
   "source": [
    "import tensorflow as tf\n",
    "import os #used to navigate through file structures\n",
    "import cv2 #allows for compture vision and code stuff\n",
    "import imghdr #allows to check the file extension for our particular images\n",
    "from matplotlib import pyplot as plt\n",
    "import numpy as np"
   ]
  },
  {
   "cell_type": "code",
   "execution_count": 39,
   "id": "530ac2b8",
   "metadata": {},
   "outputs": [
    {
     "data": {
      "text/plain": [
       "[PhysicalDevice(name='/physical_device:CPU:0', device_type='CPU')]"
      ]
     },
     "execution_count": 39,
     "metadata": {},
     "output_type": "execute_result"
    }
   ],
   "source": [
    "gpus = tf.config.experimental.list_physical_devices('CPU')\n",
    "gpus"
   ]
  },
  {
   "cell_type": "code",
   "execution_count": 40,
   "id": "6b62d58e",
   "metadata": {},
   "outputs": [],
   "source": [
    "data_dir = 'train'"
   ]
  },
  {
   "cell_type": "code",
   "execution_count": 41,
   "id": "d83e757d",
   "metadata": {},
   "outputs": [],
   "source": [
    "image_exts = ['jpeg', 'jpg', 'bmp', 'png'] "
   ]
  },
  {
   "cell_type": "code",
   "execution_count": 42,
   "id": "6a770d52",
   "metadata": {
    "scrolled": true
   },
   "outputs": [],
   "source": [
    "import os\n",
    "import cv2\n",
    "import numpy as np\n",
    "import tensorflow as tf\n",
    "\n",
    "# Specify the path to the directory containing the dataset\n",
    "dataset_dir = 'train'\n",
    "\n",
    "# Initialize lists to store images and labels\n",
    "images = []\n",
    "labels = []\n",
    "\n",
    "# Define batch size and batch count\n",
    "batch_size = 32\n",
    "batch_count = 0\n",
    "\n",
    "# Iterate over the subdirectories in the dataset directory\n",
    "for class_name in os.listdir(dataset_dir):\n",
    "    class_dir = os.path.join(dataset_dir, class_name)\n",
    "    \n",
    "    # Check if the class name is a valid integer\n",
    "    try:\n",
    "        class_label = int(class_name)\n",
    "    except ValueError:\n",
    "        continue  # Skip this iteration if the class name is not a valid integer\n",
    "    \n",
    "    # Iterate over the files in each subdirectory\n",
    "    for file_name in os.listdir(class_dir):\n",
    "        file_path = os.path.join(class_dir, file_name)\n",
    "        \n",
    "        # Load the image using OpenCV\n",
    "        image = cv2.imread(file_path)\n",
    "        \n",
    "        # Perform any necessary preprocessing on the image\n",
    "        \n",
    "        # Append the preprocessed image and corresponding label to the lists\n",
    "        images.append(image)\n",
    "        labels.append(class_label)\n",
    "        \n",
    "        # Check if the batch is complete\n",
    "        if len(images) == batch_size:\n",
    "            # Convert the batched images and labels to numpy arrays\n",
    "            batch_images = np.array(images)\n",
    "            batch_labels = np.array(labels)\n",
    "            \n",
    "            # Perform any further preprocessing on the batched images and labels\n",
    "            normalized_images = batch_images / 255.0\n",
    "            one_hot_labels = tf.keras.utils.to_categorical(batch_labels, num_classes=10)\n",
    "            \n",
    "            # Clear the images and labels lists to save memory\n",
    "            images = []\n",
    "            labels = []\n",
    "            \n",
    "            # Increment the batch count\n",
    "            batch_count += 1\n",
    "            \n",
    "            # Process the current batch...\n",
    "            # (e.g., feed it to a model for training or validation)\n",
    "            # You can replace this placeholder with your actual code\n",
    "            \n",
    "            # Print the progress\n",
    "            print(f\"Processed batch {batch_count}\")\n",
    "\n",
    "# Convert the remaining images and labels to numpy arrays\n",
    "if len(images) > 0:\n",
    "    batch_images = np.array(images)\n",
    "    batch_labels = np.array(labels)\n",
    "    \n",
    "    # Perform any further preprocessing on the remaining batched images and labels\n",
    "    normalized_images = batch_images / 255.0\n",
    "    one_hot_labels = tf.keras.utils.to_categorical(batch_labels, num_classes=10)\n",
    "    \n",
    "    # Process the remaining batch...\n",
    "    # (e.g., feed it to a model for training or validation)\n",
    "    # You can replace this placeholder with your actual code\n",
    "    \n",
    "    # Print the progress\n",
    "    print(f\"Processed remaining batch\")\n",
    "\n",
    "# Print the shapes of the images and labels arrays\n",
    "#print(\"Images shape:\", batch_images.shape)\n",
    "#print(\"Labels shape:\", batch_labels.shape)\n"
   ]
  },
  {
   "cell_type": "code",
   "execution_count": 43,
   "id": "a7377f5e",
   "metadata": {},
   "outputs": [
    {
     "name": "stdout",
     "output_type": "stream",
     "text": [
      "Found 32000 files belonging to 2 classes.\n"
     ]
    }
   ],
   "source": [
    "data = tf.keras.utils.image_dataset_from_directory('train') #this is where the data is going to be loaded.\n",
    "#the code also builds an image dataset for you and also some preprocessing so as to resize the images."
   ]
  },
  {
   "cell_type": "code",
   "execution_count": 44,
   "id": "016084c9",
   "metadata": {},
   "outputs": [],
   "source": [
    "data_iterator = data.as_numpy_iterator() #allows access to the generator for the data pipeline."
   ]
  },
  {
   "cell_type": "code",
   "execution_count": 45,
   "id": "0c6261f1",
   "metadata": {},
   "outputs": [],
   "source": [
    "#Get another batch from the iterator\n",
    "batch = data_iterator.next()"
   ]
  },
  {
   "cell_type": "code",
   "execution_count": 46,
   "id": "ee34deba",
   "metadata": {},
   "outputs": [
    {
     "data": {
      "text/plain": [
       "array([0, 0, 1, 1, 1, 1, 0, 1, 0, 0, 0, 1, 1, 1, 1, 1, 1, 1, 1, 0, 1, 0,\n",
       "       1, 1, 1, 0, 1, 1, 1, 0, 0, 1])"
      ]
     },
     "execution_count": 46,
     "metadata": {},
     "output_type": "execute_result"
    }
   ],
   "source": [
    "#class 1 = SAD people, \n",
    "#class 0 = happy people\n",
    "batch[1] #images represented as numpy arrays"
   ]
  },
  {
   "cell_type": "code",
   "execution_count": 47,
   "id": "bbd15693",
   "metadata": {},
   "outputs": [],
   "source": [
    "data = data.map(lambda x, y: (x/255, y))"
   ]
  },
  {
   "cell_type": "code",
   "execution_count": 48,
   "id": "9e38a09e",
   "metadata": {},
   "outputs": [],
   "source": [
    "scaled_iterator = data.as_numpy_iterator()"
   ]
  },
  {
   "cell_type": "code",
   "execution_count": 49,
   "id": "c3df6f10",
   "metadata": {},
   "outputs": [],
   "source": [
    "batch = scaled_iterator.next()"
   ]
  },
  {
   "cell_type": "code",
   "execution_count": 50,
   "id": "3882d43a",
   "metadata": {},
   "outputs": [
    {
     "data": {
      "text/plain": [
       "1.0"
      ]
     },
     "execution_count": 50,
     "metadata": {},
     "output_type": "execute_result"
    }
   ],
   "source": [
    "batch[0].max()"
   ]
  },
  {
   "cell_type": "code",
   "execution_count": 51,
   "id": "97811b25",
   "metadata": {
    "scrolled": true
   },
   "outputs": [
    {
     "data": {
      "text/plain": [
       "1000"
      ]
     },
     "execution_count": 51,
     "metadata": {},
     "output_type": "execute_result"
    }
   ],
   "source": [
    "len(data) #what is used to train the deep learning model"
   ]
  },
  {
   "cell_type": "code",
   "execution_count": 52,
   "id": "e8814ede",
   "metadata": {},
   "outputs": [],
   "source": [
    "train_size = int(len(data)*.7) #used during training\n",
    "val_size = int(len(data)*.2) #used to evaluate model while it is being trained. used during tarining\n",
    "test_size = int(len(data)*.1) # is held until the end. The model will not interact with it. It is used post training to do evaluation."
   ]
  },
  {
   "cell_type": "code",
   "execution_count": 53,
   "id": "fbb2335f",
   "metadata": {},
   "outputs": [
    {
     "data": {
      "text/plain": [
       "1000"
      ]
     },
     "execution_count": 53,
     "metadata": {},
     "output_type": "execute_result"
    }
   ],
   "source": [
    "train_size+val_size+test_size"
   ]
  },
  {
   "cell_type": "code",
   "execution_count": 54,
   "id": "ede41f25",
   "metadata": {},
   "outputs": [],
   "source": [
    "train =data.take(train_size) #defines how much data we are going to take in this particular partition.\n",
    "val = data.skip(train_size).take(val_size) #here the batches allocated to training batch are going to be skipped and the next batch is going to be allocated to the val batch\n",
    "test = data.skip(train_size + val_size).take(test_size) #here the remaining batch is going to be taken by test"
   ]
  },
  {
   "cell_type": "code",
   "execution_count": 55,
   "id": "4506383a",
   "metadata": {},
   "outputs": [],
   "source": [
    "from tensorflow.keras.models import Sequential\n",
    "from tensorflow.keras.layers import Conv2D, MaxPooling2D, Dense, Flatten, Dropout"
   ]
  },
  {
   "cell_type": "code",
   "execution_count": 56,
   "id": "26b258d8",
   "metadata": {},
   "outputs": [],
   "source": [
    "#\n",
    "model = Sequential()\n",
    "model.add(Conv2D(16, (3,3), 1, activation='relu', input_shape=(256, 256, 3)))\n",
    "model.add(MaxPooling2D())\n",
    "\n",
    "model.add(Conv2D(32, (3,3), 1, activation='relu'))\n",
    "model.add(MaxPooling2D())\n",
    "\n",
    "model.add(Conv2D(16, (3,3), 1, activation='relu'))\n",
    "model.add(MaxPooling2D())\n",
    "\n",
    "model.add(Flatten())\n",
    "\n",
    "model.add(Dense(256, activation='relu'))\n",
    "model.add(Dense(1, activation='sigmoid'))"
   ]
  },
  {
   "cell_type": "code",
   "execution_count": 57,
   "id": "c0998033",
   "metadata": {},
   "outputs": [],
   "source": [
    "model.compile('adam', loss=tf.losses.BinaryCrossentropy(), metrics=['accuracy'])"
   ]
  },
  {
   "cell_type": "code",
   "execution_count": 58,
   "id": "313f9240",
   "metadata": {
    "scrolled": true
   },
   "outputs": [
    {
     "name": "stdout",
     "output_type": "stream",
     "text": [
      "Model: \"sequential_1\"\n",
      "_________________________________________________________________\n",
      " Layer (type)                Output Shape              Param #   \n",
      "=================================================================\n",
      " conv2d_3 (Conv2D)           (None, 254, 254, 16)      448       \n",
      "                                                                 \n",
      " max_pooling2d_3 (MaxPooling  (None, 127, 127, 16)     0         \n",
      " 2D)                                                             \n",
      "                                                                 \n",
      " conv2d_4 (Conv2D)           (None, 125, 125, 32)      4640      \n",
      "                                                                 \n",
      " max_pooling2d_4 (MaxPooling  (None, 62, 62, 32)       0         \n",
      " 2D)                                                             \n",
      "                                                                 \n",
      " conv2d_5 (Conv2D)           (None, 60, 60, 16)        4624      \n",
      "                                                                 \n",
      " max_pooling2d_5 (MaxPooling  (None, 30, 30, 16)       0         \n",
      " 2D)                                                             \n",
      "                                                                 \n",
      " flatten_1 (Flatten)         (None, 14400)             0         \n",
      "                                                                 \n",
      " dense_2 (Dense)             (None, 256)               3686656   \n",
      "                                                                 \n",
      " dense_3 (Dense)             (None, 1)                 257       \n",
      "                                                                 \n",
      "=================================================================\n",
      "Total params: 3,696,625\n",
      "Trainable params: 3,696,625\n",
      "Non-trainable params: 0\n",
      "_________________________________________________________________\n"
     ]
    }
   ],
   "source": [
    "model.summary()"
   ]
  },
  {
   "cell_type": "code",
   "execution_count": 59,
   "id": "85e9c252",
   "metadata": {},
   "outputs": [],
   "source": [
    "logdir='logs'"
   ]
  },
  {
   "cell_type": "code",
   "execution_count": 60,
   "id": "16f8816a",
   "metadata": {},
   "outputs": [],
   "source": [
    "tensorboard_callback=tf.keras.callbacks.TensorBoard(log_dir=logdir)"
   ]
  },
  {
   "cell_type": "code",
   "execution_count": 61,
   "id": "b509c96a",
   "metadata": {},
   "outputs": [
    {
     "name": "stdout",
     "output_type": "stream",
     "text": [
      "Epoch 1/10\n",
      "700/700 [==============================] - 963s 1s/step - loss: 0.5805 - accuracy: 0.7451 - val_loss: 0.5590 - val_accuracy: 0.7550\n",
      "Epoch 2/10\n",
      "700/700 [==============================] - 966s 1s/step - loss: 0.5681 - accuracy: 0.7473 - val_loss: 0.5580 - val_accuracy: 0.7544\n",
      "Epoch 3/10\n",
      "700/700 [==============================] - 973s 1s/step - loss: 0.5198 - accuracy: 0.7475 - val_loss: 0.4150 - val_accuracy: 0.7550\n",
      "Epoch 4/10\n",
      "700/700 [==============================] - 840s 1s/step - loss: 0.2934 - accuracy: 0.8432 - val_loss: 0.0235 - val_accuracy: 0.9973\n",
      "Epoch 5/10\n",
      "700/700 [==============================] - 510s 728ms/step - loss: 0.0115 - accuracy: 0.9981 - val_loss: 0.0095 - val_accuracy: 0.9977\n",
      "Epoch 6/10\n",
      "700/700 [==============================] - 511s 729ms/step - loss: 0.0102 - accuracy: 0.9978 - val_loss: 0.0083 - val_accuracy: 0.9973\n",
      "Epoch 7/10\n",
      "700/700 [==============================] - 511s 729ms/step - loss: 0.0034 - accuracy: 0.9992 - val_loss: 0.0136 - val_accuracy: 0.9966\n",
      "Epoch 8/10\n",
      "700/700 [==============================] - 531s 757ms/step - loss: 0.0021 - accuracy: 0.9994 - val_loss: 0.0089 - val_accuracy: 0.9975\n",
      "Epoch 9/10\n",
      "700/700 [==============================] - 514s 733ms/step - loss: 0.0027 - accuracy: 0.9992 - val_loss: 0.0068 - val_accuracy: 0.9973\n",
      "Epoch 10/10\n",
      "700/700 [==============================] - 520s 742ms/step - loss: 0.0051 - accuracy: 0.9983 - val_loss: 0.0127 - val_accuracy: 0.9973\n"
     ]
    }
   ],
   "source": [
    "hist = model.fit(train, epochs=10, batch_size=32, validation_data=val, callbacks=[tensorboard_callback])"
   ]
  },
  {
   "cell_type": "code",
   "execution_count": 62,
   "id": "e2a24938",
   "metadata": {},
   "outputs": [
    {
     "data": {
      "image/png": "[encoded data removed]",
      "text/plain": [
       "<Figure size 640x480 with 1 Axes>"
      ]
     },
     "metadata": {},
     "output_type": "display_data"
    }
   ],
   "source": [
    "fig = plt.figure()\n",
    "plt.plot(hist.history['loss'], color='teal', label='loss')\n",
    "plt.plot(hist.history['val_loss'], color='orange', label='val_loss')\n",
    "fig.suptitle('Loss', fontsize=20)\n",
    "plt.legend(loc=\"upper left\")\n",
    "plt.show()"
   ]
  },
  {
   "cell_type": "code",
   "execution_count": 63,
   "id": "60a6f17b",
   "metadata": {
    "scrolled": false
   },
   "outputs": [
    {
     "data": {
      "image/png": "[encoded data removed]",
      "text/plain": [
       "<Figure size 640x480 with 1 Axes>"
      ]
     },
     "metadata": {},
     "output_type": "display_data"
    }
   ],
   "source": [
    "fig = plt.figure()\n",
    "plt.plot(hist.history['accuracy'], color='teal', label='accuracy')\n",
    "plt.plot(hist.history['val_accuracy'], color='orange', label='val_accuracy')\n",
    "fig.suptitle('Accuracy', fontsize=20)\n",
    "plt.legend(loc=\"upper left\")\n",
    "plt.show()"
   ]
  },
  {
   "cell_type": "code",
   "execution_count": 64,
   "id": "ca50319f",
   "metadata": {},
   "outputs": [],
   "source": [
    "from tensorflow.keras.metrics import Precision, Recall, BinaryAccuracy"
   ]
  },
  {
   "cell_type": "code",
   "execution_count": 65,
   "id": "8d2f9387",
   "metadata": {},
   "outputs": [],
   "source": [
    "pre = Precision()\n",
    "re = Recall()\n",
    "acc = BinaryAccuracy()"
   ]
  },
  {
   "cell_type": "code",
   "execution_count": 66,
   "id": "f77f004a",
   "metadata": {
    "scrolled": true
   },
   "outputs": [
    {
     "name": "stdout",
     "output_type": "stream",
     "text": [
      "1/1 [==============================] - 0s 422ms/step\n",
      "1/1 [==============================] - 0s 201ms/step\n",
      "1/1 [==============================] - 0s 241ms/step\n",
      "1/1 [==============================] - 0s 221ms/step\n",
      "1/1 [==============================] - 0s 230ms/step\n",
      "1/1 [==============================] - 0s 201ms/step\n",
      "1/1 [==============================] - 0s 197ms/step\n",
      "1/1 [==============================] - 0s 170ms/step\n",
      "1/1 [==============================] - 0s 222ms/step\n",
      "1/1 [==============================] - 0s 241ms/step\n",
      "1/1 [==============================] - 0s 231ms/step\n",
      "1/1 [==============================] - 0s 170ms/step\n",
      "1/1 [==============================] - 0s 226ms/step\n",
      "1/1 [==============================] - 0s 187ms/step\n",
      "1/1 [==============================] - 0s 180ms/step\n",
      "1/1 [==============================] - 0s 220ms/step\n",
      "1/1 [==============================] - 0s 170ms/step\n",
      "1/1 [==============================] - 0s 196ms/step\n",
      "1/1 [==============================] - 0s 161ms/step\n",
      "1/1 [==============================] - 0s 221ms/step\n",
      "1/1 [==============================] - 0s 160ms/step\n",
      "1/1 [==============================] - 0s 195ms/step\n",
      "1/1 [==============================] - 0s 211ms/step\n",
      "1/1 [==============================] - 0s 210ms/step\n",
      "1/1 [==============================] - 0s 227ms/step\n",
      "1/1 [==============================] - 0s 188ms/step\n",
      "1/1 [==============================] - 0s 243ms/step\n",
      "1/1 [==============================] - 0s 181ms/step\n",
      "1/1 [==============================] - 0s 220ms/step\n",
      "1/1 [==============================] - 0s 210ms/step\n",
      "1/1 [==============================] - 0s 181ms/step\n",
      "1/1 [==============================] - 0s 220ms/step\n",
      "1/1 [==============================] - 0s 210ms/step\n",
      "1/1 [==============================] - 0s 209ms/step\n",
      "1/1 [==============================] - 0s 171ms/step\n",
      "1/1 [==============================] - 0s 201ms/step\n",
      "1/1 [==============================] - 0s 230ms/step\n",
      "1/1 [==============================] - 0s 193ms/step\n",
      "1/1 [==============================] - 0s 175ms/step\n",
      "1/1 [==============================] - 0s 153ms/step\n",
      "1/1 [==============================] - 0s 157ms/step\n",
      "1/1 [==============================] - 0s 200ms/step\n",
      "1/1 [==============================] - 0s 180ms/step\n",
      "1/1 [==============================] - 0s 167ms/step\n",
      "1/1 [==============================] - 0s 235ms/step\n",
      "1/1 [==============================] - 0s 140ms/step\n",
      "1/1 [==============================] - 0s 144ms/step\n",
      "1/1 [==============================] - 0s 211ms/step\n",
      "1/1 [==============================] - 0s 196ms/step\n",
      "1/1 [==============================] - 0s 190ms/step\n",
      "1/1 [==============================] - 0s 157ms/step\n",
      "1/1 [==============================] - 0s 184ms/step\n",
      "1/1 [==============================] - 0s 183ms/step\n",
      "1/1 [==============================] - 0s 175ms/step\n",
      "1/1 [==============================] - 0s 150ms/step\n",
      "1/1 [==============================] - 0s 163ms/step\n",
      "1/1 [==============================] - 0s 211ms/step\n",
      "1/1 [==============================] - 0s 144ms/step\n",
      "1/1 [==============================] - 0s 201ms/step\n",
      "1/1 [==============================] - 0s 213ms/step\n",
      "1/1 [==============================] - 0s 186ms/step\n",
      "1/1 [==============================] - 0s 180ms/step\n",
      "1/1 [==============================] - 0s 186ms/step\n",
      "1/1 [==============================] - 0s 191ms/step\n",
      "1/1 [==============================] - 0s 194ms/step\n",
      "1/1 [==============================] - 0s 211ms/step\n",
      "1/1 [==============================] - 0s 201ms/step\n",
      "1/1 [==============================] - 0s 170ms/step\n",
      "1/1 [==============================] - 0s 201ms/step\n",
      "1/1 [==============================] - 0s 213ms/step\n",
      "1/1 [==============================] - 0s 190ms/step\n",
      "1/1 [==============================] - 0s 211ms/step\n",
      "1/1 [==============================] - 0s 182ms/step\n",
      "1/1 [==============================] - 0s 207ms/step\n",
      "1/1 [==============================] - 0s 201ms/step\n",
      "1/1 [==============================] - 0s 160ms/step\n",
      "1/1 [==============================] - 0s 200ms/step\n",
      "1/1 [==============================] - 0s 210ms/step\n",
      "1/1 [==============================] - 0s 150ms/step\n",
      "1/1 [==============================] - 0s 172ms/step\n",
      "1/1 [==============================] - 0s 208ms/step\n",
      "1/1 [==============================] - 0s 220ms/step\n",
      "1/1 [==============================] - 0s 221ms/step\n",
      "1/1 [==============================] - 0s 202ms/step\n",
      "1/1 [==============================] - 0s 190ms/step\n",
      "1/1 [==============================] - 0s 210ms/step\n",
      "1/1 [==============================] - 0s 171ms/step\n",
      "1/1 [==============================] - 0s 157ms/step\n",
      "1/1 [==============================] - 0s 172ms/step\n",
      "1/1 [==============================] - 0s 160ms/step\n",
      "1/1 [==============================] - 0s 173ms/step\n",
      "1/1 [==============================] - 0s 146ms/step\n",
      "1/1 [==============================] - 0s 148ms/step\n",
      "1/1 [==============================] - 0s 152ms/step\n",
      "1/1 [==============================] - 0s 158ms/step\n",
      "1/1 [==============================] - 0s 216ms/step\n",
      "1/1 [==============================] - 0s 154ms/step\n",
      "1/1 [==============================] - 0s 187ms/step\n",
      "1/1 [==============================] - 0s 137ms/step\n",
      "1/1 [==============================] - 0s 143ms/step\n"
     ]
    }
   ],
   "source": [
    "for batch in test.as_numpy_iterator():\n",
    "    X, y = batch\n",
    "    yhat = model.predict(X)\n",
    "    pre.update_state(y, yhat)\n",
    "    re.update_state(y, yhat)\n",
    "    acc.update_state(y, yhat)"
   ]
  },
  {
   "cell_type": "code",
   "execution_count": 67,
   "id": "250fc031",
   "metadata": {
    "scrolled": false
   },
   "outputs": [
    {
     "name": "stdout",
     "output_type": "stream",
     "text": [
      "Precision:1.0, Recall:0.9991766214370728, Accuracy:0.9993749856948853\n"
     ]
    }
   ],
   "source": [
    "print(f'Precision:{pre.result().numpy()}, Recall:{re.result().numpy()}, Accuracy:{acc.result().numpy()}')"
   ]
  },
  {
   "cell_type": "code",
   "execution_count": 186,
   "id": "143553bc",
   "metadata": {
    "scrolled": true
   },
   "outputs": [
    {
     "data": {
      "image/png": "[encoded data removed]",
      "text/plain": [
       "<Figure size 640x480 with 1 Axes>"
      ]
     },
     "metadata": {},
     "output_type": "display_data"
    }
   ],
   "source": [
    "import cv2\n",
    "img = cv2.imread('image_00003_js_0.png')\n",
    "plt.imshow(cv2.cvtColor(img, cv2.COLOR_BGR2RGB))\n",
    "plt.show()"
   ]
  },
  {
   "cell_type": "code",
   "execution_count": 187,
   "id": "53119927",
   "metadata": {
    "scrolled": true
   },
   "outputs": [
    {
     "data": {
      "image/png": "[encoded data removed]",
      "text/plain": [
       "<Figure size 640x480 with 1 Axes>"
      ]
     },
     "metadata": {},
     "output_type": "display_data"
    }
   ],
   "source": [
    "resize = tf.image.resize(img, (256, 256))\n",
    "plt.imshow(resize.numpy().astype(int))\n",
    "plt.show()"
   ]
  },
  {
   "cell_type": "code",
   "execution_count": 188,
   "id": "e4995142",
   "metadata": {},
   "outputs": [
    {
     "data": {
      "text/plain": [
       "(1, 256, 256, 3)"
      ]
     },
     "execution_count": 188,
     "metadata": {},
     "output_type": "execute_result"
    }
   ],
   "source": [
    "np.expand_dims(resize, 0).shape"
   ]
  },
  {
   "cell_type": "code",
   "execution_count": 189,
   "id": "866efa58",
   "metadata": {},
   "outputs": [
    {
     "name": "stdout",
     "output_type": "stream",
     "text": [
      "1/1 [==============================] - 0s 28ms/step\n"
     ]
    }
   ],
   "source": [
    "yhat = model.predict(np.expand_dims(resize/255, 0))"
   ]
  },
  {
   "cell_type": "code",
   "execution_count": 190,
   "id": "58e4a9a6",
   "metadata": {
    "scrolled": true
   },
   "outputs": [
    {
     "data": {
      "text/plain": [
       "array([[1.]], dtype=float32)"
      ]
     },
     "execution_count": 190,
     "metadata": {},
     "output_type": "execute_result"
    }
   ],
   "source": [
    "yhat"
   ]
  },
  {
   "cell_type": "code",
   "execution_count": 191,
   "id": "e146be87",
   "metadata": {},
   "outputs": [
    {
     "name": "stdout",
     "output_type": "stream",
     "text": [
      "Prediction!!! image has malware\n"
     ]
    }
   ],
   "source": [
    "if yhat < 0.5: \n",
    "    print(f'Prediction!!! image has no malware')\n",
    "else:\n",
    "    print(f'Prediction!!! image has malware')"
   ]
  },
  {
   "cell_type": "code",
   "execution_count": 192,
   "id": "566d49de",
   "metadata": {},
   "outputs": [],
   "source": [
    "from tensorflow.keras.models import load_model\n",
    "model.save(os.path.join('models', 'modelfinal.h5'))\n",
    "new_model = load_model(os.path.join('models', 'modelfinal.h5'))"
   ]
  },
  {
   "cell_type": "code",
   "execution_count": 193,
   "id": "7734a0df",
   "metadata": {},
   "outputs": [
    {
     "data": {
      "text/plain": [
       "(1, 256, 256, 3)"
      ]
     },
     "execution_count": 193,
     "metadata": {},
     "output_type": "execute_result"
    }
   ],
   "source": [
    "np.expand_dims(resize, 0).shape"
   ]
  },
  {
   "cell_type": "code",
   "execution_count": 194,
   "id": "90961c6f",
   "metadata": {},
   "outputs": [
    {
     "name": "stdout",
     "output_type": "stream",
     "text": [
      "1/1 [==============================] - 0s 23ms/step\n"
     ]
    }
   ],
   "source": [
    "import numpy as np\n",
    "from PIL import Image\n",
    "\n",
    "# Load the image\n",
    "image_path = 'image_00003_js_0.png'  # Replace with the actual image path\n",
    "image = Image.open(image_path)\n",
    "\n",
    "# Resize the image to the desired input size of the model\n",
    "target_size = (224, 224)  # Replace with the target input size of your model\n",
    "image = image.resize(target_size)\n",
    "\n",
    "# Convert the image to RGB mode\n",
    "image = image.convert('RGB')\n",
    "\n",
    "# Convert the image to a numpy array\n",
    "image_array = np.array(image)\n",
    "\n",
    "# Normalize the pixel values to be in the range [0, 1]\n",
    "image_array = image_array.astype(np.float32) / 255.0\n",
    "\n",
    "# Add a batch dimension to the image array\n",
    "image_array = np.expand_dims(image_array, axis=0)\n",
    "\n",
    "# Validate the shape and data type of the input array\n",
    "assert image_array.shape == (1, target_size[0], target_size[1], 3), \\\n",
    "    f\"Invalid shape. Expected {(1, target_size[0], target_size[1], 3)}, got {image_array.shape}\"\n",
    "assert image_array.dtype == np.float32, \"Invalid data type. Expected np.float32\"\n",
    "\n",
    "# Now, the preprocessed image can be passed into your model for prediction\n",
    "try:\n",
    "    yhat = model.predict(np.expand_dims(resize/255, 0))\n",
    "    # Process the model's prediction as needed\n",
    "    # ...\n",
    "except Exception as e:\n",
    "    print(\"Error during model prediction:\", str(e))\n"
   ]
  },
  {
   "cell_type": "code",
   "execution_count": 195,
   "id": "bc40b447",
   "metadata": {},
   "outputs": [
    {
     "name": "stdout",
     "output_type": "stream",
     "text": [
      "1/1 [==============================] - 0s 94ms/step\n"
     ]
    },
    {
     "data": {
      "text/plain": [
       "array([[1.]], dtype=float32)"
      ]
     },
     "execution_count": 195,
     "metadata": {},
     "output_type": "execute_result"
    }
   ],
   "source": [
    "new_model.predict(np.expand_dims(resize/255, 0))"
   ]
  },
  {
   "cell_type": "code",
   "execution_count": 196,
   "id": "3276396f",
   "metadata": {},
   "outputs": [
    {
     "name": "stdout",
     "output_type": "stream",
     "text": [
      "1/1 [==============================] - 0s 26ms/step\n"
     ]
    }
   ],
   "source": [
    "yhatnew = new_model.predict(np.expand_dims(resize/255, 0))"
   ]
  },
  {
   "cell_type": "code",
   "execution_count": 197,
   "id": "280b2c8f",
   "metadata": {},
   "outputs": [
    {
     "name": "stdout",
     "output_type": "stream",
     "text": [
      "Prediction!!! image has malware\n"
     ]
    }
   ],
   "source": [
    "if yhat < 0.5: \n",
    "    print(f'Prediction!!! image has no malware')\n",
    "else:\n",
    "    print(f'Prediction!!! image has malware')"
   ]
  },
  {
   "cell_type": "code",
   "execution_count": null,
   "id": "76299a5a",
   "metadata": {},
   "outputs": [],
   "source": []
  }
 ],
 "metadata": {
  "kernelspec": {
   "display_name": "Python 3 (ipykernel)",
   "language": "python",
   "name": "python3"
  },
  "language_info": {
   "codemirror_mode": {
    "name": "ipython",
    "version": 3
   },
   "file_extension": ".py",
   "mimetype": "text/x-python",
   "name": "python",
   "nbconvert_exporter": "python",
   "pygments_lexer": "ipython3",
   "version": "3.11.3"
  }
 },
 "nbformat": 4,
 "nbformat_minor": 5
}
